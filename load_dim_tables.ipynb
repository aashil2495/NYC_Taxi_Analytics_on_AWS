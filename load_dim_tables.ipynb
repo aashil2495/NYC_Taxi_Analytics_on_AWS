{
 "cells": [
  {
   "cell_type": "code",
   "execution_count": 1,
   "id": "310b6496-b7fc-4bde-8bb9-5c11fe2a8008",
   "metadata": {
    "execution": {
     "iopub.execute_input": "2023-12-30T14:41:19.375271Z",
     "iopub.status.busy": "2023-12-30T14:41:19.374963Z",
     "iopub.status.idle": "2023-12-30T14:42:38.991742Z",
     "shell.execute_reply": "2023-12-30T14:42:38.991128Z",
     "shell.execute_reply.started": "2023-12-30T14:41:19.375242Z"
    },
    "vscode": {
     "languageId": "python"
    }
   },
   "outputs": [
    {
     "data": {
      "application/vnd.jupyter.widget-view+json": {
       "model_id": "e5b3f504246f49acb8e99b86db5ed6f0",
       "version_major": 2,
       "version_minor": 0
      },
      "text/plain": [
       "VBox()"
      ]
     },
     "metadata": {},
     "output_type": "display_data"
    },
    {
     "name": "stdout",
     "output_type": "stream",
     "text": [
      "Starting Spark application\n"
     ]
    },
    {
     "data": {
      "text/html": [
       "<table>\n",
       "<tbody><tr><th>ID</th><th>YARN Application ID</th><th>Kind</th><th>State</th><th>Spark UI</th><th>Driver log</th><th>User</th><th>Current session?</th></tr><tr><td>0</td><td>application_1703945185492_0001</td><td>pyspark</td><td>idle</td><td><a target=\"_blank\" href=\"http://ip-10-0-4-42.ec2.internal:20888/proxy/application_1703945185492_0001/\" class=\"emr-proxy-link j-B32GIGZGSEL1 application_1703945185492_0001\" emr-resource=\"j-B32GIGZGSEL1\n",
       "\" application-id=\"application_1703945185492_0001\">Link</a></td><td><a target=\"_blank\" href=\"http://ip-10-0-11-230.ec2.internal:8042/node/containerlogs/container_1703945185492_0001_01_000001/livy\">Link</a></td><td>None</td><td>✔</td></tr></tbody></table>"
      ],
      "text/plain": [
       "<IPython.core.display.HTML object>"
      ]
     },
     "metadata": {},
     "output_type": "display_data"
    },
    {
     "data": {
      "application/vnd.jupyter.widget-view+json": {
       "model_id": "",
       "version_major": 2,
       "version_minor": 0
      },
      "text/plain": [
       "FloatProgress(value=0.0, bar_style='info', description='Progress:', layout=Layout(height='25px', width='50%'),…"
      ]
     },
     "metadata": {},
     "output_type": "display_data"
    },
    {
     "name": "stdout",
     "output_type": "stream",
     "text": [
      "SparkSession available as 'spark'.\n"
     ]
    },
    {
     "data": {
      "application/vnd.jupyter.widget-view+json": {
       "model_id": "",
       "version_major": 2,
       "version_minor": 0
      },
      "text/plain": [
       "FloatProgress(value=0.0, bar_style='info', description='Progress:', layout=Layout(height='25px', width='50%'),…"
      ]
     },
     "metadata": {},
     "output_type": "display_data"
    },
    {
     "name": "stdout",
     "output_type": "stream",
     "text": [
      "Collecting boto3\n",
      "  Downloading boto3-1.33.13-py3-none-any.whl (139 kB)\n",
      "Requirement already satisfied: jmespath<2.0.0,>=0.7.1 in /usr/local/lib/python3.7/site-packages (from boto3) (1.0.1)\n",
      "Collecting botocore<1.34.0,>=1.33.13\n",
      "  Downloading botocore-1.33.13-py3-none-any.whl (11.8 MB)\n",
      "Collecting s3transfer<0.9.0,>=0.8.2\n",
      "  Downloading s3transfer-0.8.2-py3-none-any.whl (82 kB)\n",
      "Collecting urllib3<1.27,>=1.25.4; python_version < \"3.10\"\n",
      "  Downloading urllib3-1.26.18-py2.py3-none-any.whl (143 kB)\n",
      "Collecting python-dateutil<3.0.0,>=2.1\n",
      "  Downloading python_dateutil-2.8.2-py2.py3-none-any.whl (247 kB)\n",
      "Requirement already satisfied: six>=1.5 in /usr/local/lib/python3.7/site-packages (from python-dateutil<3.0.0,>=2.1->botocore<1.34.0,>=1.33.13->boto3) (1.13.0)\n",
      "Installing collected packages: urllib3, python-dateutil, botocore, s3transfer, boto3\n",
      "Successfully installed boto3-1.33.13 botocore-1.33.13 python-dateutil-2.8.2 s3transfer-0.8.2 urllib3-1.26.18\n",
      "\n",
      "WARNING: The directory '/home/.cache/pip' or its parent directory is not owned or is not writable by the current user. The cache has been disabled. Check the permissions and owner of that directory. If executing pip with sudo, you may want sudo's -H flag."
     ]
    }
   ],
   "source": [
    "sc.install_pypi_package(\"boto3\")"
   ]
  },
  {
   "cell_type": "code",
   "execution_count": 7,
   "id": "20a1928e-294a-4f2a-b7f2-00f8f95f3c39",
   "metadata": {
    "execution": {
     "iopub.execute_input": "2023-12-30T14:47:19.489510Z",
     "iopub.status.busy": "2023-12-30T14:47:19.489278Z",
     "iopub.status.idle": "2023-12-30T14:47:19.550302Z",
     "shell.execute_reply": "2023-12-30T14:47:19.549770Z",
     "shell.execute_reply.started": "2023-12-30T14:47:19.489486Z"
    },
    "tags": [],
    "vscode": {
     "languageId": "python"
    }
   },
   "outputs": [
    {
     "data": {
      "application/vnd.jupyter.widget-view+json": {
       "model_id": "da4c59ed96e1495fb1297d834c165973",
       "version_major": 2,
       "version_minor": 0
      },
      "text/plain": [
       "VBox()"
      ]
     },
     "metadata": {},
     "output_type": "display_data"
    },
    {
     "data": {
      "application/vnd.jupyter.widget-view+json": {
       "model_id": "",
       "version_major": 2,
       "version_minor": 0
      },
      "text/plain": [
       "FloatProgress(value=0.0, bar_style='info', description='Progress:', layout=Layout(height='25px', width='50%'),…"
      ]
     },
     "metadata": {},
     "output_type": "display_data"
    }
   ],
   "source": [
    "from pyspark.sql import SparkSession\n",
    "import boto3\n",
    "from pyspark.sql.functions import *\n",
    "from datetime import datetime, timedelta\n",
    "from pyspark.sql.types import *"
   ]
  },
  {
   "cell_type": "code",
   "execution_count": 4,
   "id": "7f453512-11f9-4194-b518-146fae81fdec",
   "metadata": {
    "execution": {
     "iopub.execute_input": "2023-12-30T14:42:39.368347Z",
     "iopub.status.busy": "2023-12-30T14:42:39.367878Z",
     "iopub.status.idle": "2023-12-30T14:42:39.457552Z",
     "shell.execute_reply": "2023-12-30T14:42:39.455333Z",
     "shell.execute_reply.started": "2023-12-30T14:42:39.368309Z"
    },
    "vscode": {
     "languageId": "python"
    }
   },
   "outputs": [
    {
     "data": {
      "application/vnd.jupyter.widget-view+json": {
       "model_id": "e3b6cbd3d5d1498092d85c9a1c0c3518",
       "version_major": 2,
       "version_minor": 0
      },
      "text/plain": [
       "VBox()"
      ]
     },
     "metadata": {},
     "output_type": "display_data"
    },
    {
     "data": {
      "application/vnd.jupyter.widget-view+json": {
       "model_id": "",
       "version_major": 2,
       "version_minor": 0
      },
      "text/plain": [
       "FloatProgress(value=0.0, bar_style='info', description='Progress:', layout=Layout(height='25px', width='50%'),…"
      ]
     },
     "metadata": {},
     "output_type": "display_data"
    }
   ],
   "source": [
    "spark = SparkSession.builder.appName('tripdataanalysis').getOrCreate()"
   ]
  },
  {
   "cell_type": "code",
   "execution_count": 25,
   "id": "749a3d5b-ca81-4a38-a23c-a3c63a6b2f3d",
   "metadata": {
    "execution": {
     "iopub.execute_input": "2023-12-30T15:09:57.581953Z",
     "iopub.status.busy": "2023-12-30T15:09:57.581733Z",
     "iopub.status.idle": "2023-12-30T15:09:57.852950Z",
     "shell.execute_reply": "2023-12-30T15:09:57.852273Z",
     "shell.execute_reply.started": "2023-12-30T15:09:57.581929Z"
    },
    "tags": [],
    "vscode": {
     "languageId": "python"
    }
   },
   "outputs": [
    {
     "data": {
      "application/vnd.jupyter.widget-view+json": {
       "model_id": "8bac463789f448b0a1e11b5f20508eca",
       "version_major": 2,
       "version_minor": 0
      },
      "text/plain": [
       "VBox()"
      ]
     },
     "metadata": {},
     "output_type": "display_data"
    },
    {
     "data": {
      "application/vnd.jupyter.widget-view+json": {
       "model_id": "",
       "version_major": 2,
       "version_minor": 0
      },
      "text/plain": [
       "FloatProgress(value=0.0, bar_style='info', description='Progress:', layout=Layout(height='25px', width='50%'),…"
      ]
     },
     "metadata": {},
     "output_type": "display_data"
    }
   ],
   "source": [
    "source_bucket, target_bucket = \"staging-trip-data\", \"processed-trip-data\"\n",
    "session = boto3.Session()\n",
    "s3 = session.client('s3')\n",
    "dw_bucket_path=\"s3://\"+target_bucket+\"/Dimension/\""
   ]
  },
  {
   "cell_type": "code",
   "execution_count": 28,
   "id": "fa1ff363-c513-4a3e-91a9-e13a73c81b81",
   "metadata": {
    "execution": {
     "iopub.execute_input": "2023-12-30T15:13:39.401710Z",
     "iopub.status.busy": "2023-12-30T15:13:39.401476Z",
     "iopub.status.idle": "2023-12-30T15:13:56.731464Z",
     "shell.execute_reply": "2023-12-30T15:13:56.730841Z",
     "shell.execute_reply.started": "2023-12-30T15:13:39.401685Z"
    },
    "tags": [],
    "vscode": {
     "languageId": "python"
    }
   },
   "outputs": [
    {
     "data": {
      "application/vnd.jupyter.widget-view+json": {
       "model_id": "7f40471e8b9e45feb88f4dd1e84f73d9",
       "version_major": 2,
       "version_minor": 0
      },
      "text/plain": [
       "VBox()"
      ]
     },
     "metadata": {},
     "output_type": "display_data"
    },
    {
     "data": {
      "application/vnd.jupyter.widget-view+json": {
       "model_id": "",
       "version_major": 2,
       "version_minor": 0
      },
      "text/plain": [
       "FloatProgress(value=0.0, bar_style='info', description='Progress:', layout=Layout(height='25px', width='50%'),…"
      ]
     },
     "metadata": {},
     "output_type": "display_data"
    }
   ],
   "source": [
    "schema = StructType([\n",
    "    StructField(\"Id\", IntegerType(), True),\n",
    "    StructField(\"SharedRequestFlag\", StringType(), True),\n",
    "    StructField(\"SharedMatchFlag\", StringType(), True),\n",
    "    StructField(\"WavRequestFlag\", StringType(), True),\n",
    "    StructField(\"WavMatchFlag\", StringType(), True)\n",
    "])\n",
    "\n",
    "\n",
    "data = [(1, 'Y','Y','Y','Y'),\n",
    "        \n",
    "        (2, 'Y', 'Y','Y','N'),\n",
    "        (3,'N','Y','Y','Y'),\n",
    "        (4,'Y','N','Y','Y'),\n",
    "        (5,'Y','Y','N','Y'),\n",
    "        \n",
    "        (6, 'Y', 'Y','N','N'),\n",
    "        (7, 'N', 'N','Y','Y'),\n",
    "        \n",
    "        (8, 'Y', 'N','Y','N'),\n",
    "        (9, 'N', 'Y','N','Y'),\n",
    "        \n",
    "        (10, 'N', 'Y','Y','N'),\n",
    "        (11, 'Y', 'N','N','Y'),\n",
    "        \n",
    "        (12, 'N', 'Y','Y','Y'),\n",
    "        (13, 'Y', 'N','Y','Y'),\n",
    "        (14, 'Y', 'Y','N','Y'),\n",
    "        (15, 'Y', 'Y','Y','N'),\n",
    "       \n",
    "        (16, 'N', 'N','N','N')\n",
    "       \n",
    "       ]\n",
    "file_name='dim_flags'\n",
    "dim_flags = spark.createDataFrame(data, schema)\n",
    "dim_flags.repartition(1).write.mode(\"overwrite\").parquet(dw_bucket_path+file_name)"
   ]
  },
  {
   "cell_type": "code",
   "execution_count": 29,
   "id": "41904dec-2241-4d84-a827-13a01fda033e",
   "metadata": {
    "execution": {
     "iopub.execute_input": "2023-12-30T15:30:11.623519Z",
     "iopub.status.busy": "2023-12-30T15:30:11.623300Z",
     "iopub.status.idle": "2023-12-30T15:30:26.950004Z",
     "shell.execute_reply": "2023-12-30T15:30:26.949182Z",
     "shell.execute_reply.started": "2023-12-30T15:30:11.623495Z"
    },
    "tags": [],
    "vscode": {
     "languageId": "python"
    }
   },
   "outputs": [
    {
     "data": {
      "application/vnd.jupyter.widget-view+json": {
       "model_id": "f90e6b4357d6458cb96674e1b3ad114e",
       "version_major": 2,
       "version_minor": 0
      },
      "text/plain": [
       "VBox()"
      ]
     },
     "metadata": {},
     "output_type": "display_data"
    },
    {
     "data": {
      "application/vnd.jupyter.widget-view+json": {
       "model_id": "",
       "version_major": 2,
       "version_minor": 0
      },
      "text/plain": [
       "FloatProgress(value=0.0, bar_style='info', description='Progress:', layout=Layout(height='25px', width='50%'),…"
      ]
     },
     "metadata": {},
     "output_type": "display_data"
    }
   ],
   "source": [
    "schema = StructType([\n",
    "    StructField(\"PaymentTypeId\", IntegerType(), True),\n",
    "    StructField(\"PaymentType\", StringType(), True)\n",
    "])\n",
    "data=([1,'Credit card'],[2,'Cash'],[3,'No charge'],[4,'Dispute'],[5,'Unknown'],[6,'Voided trip'])\n",
    "dim_paymenttype=spark.createDataFrame(data, schema)\n",
    "file_name='dim_paymenttype'\n",
    "dim_paymenttype.repartition(1).write.mode(\"overwrite\").parquet(dw_bucket_path+file_name)"
   ]
  },
  {
   "cell_type": "code",
   "execution_count": 30,
   "id": "6efc37ec-77ab-441e-98a3-959f07387cd3",
   "metadata": {
    "execution": {
     "iopub.execute_input": "2023-12-30T15:31:03.276327Z",
     "iopub.status.busy": "2023-12-30T15:31:03.276080Z",
     "iopub.status.idle": "2023-12-30T15:31:04.058655Z",
     "shell.execute_reply": "2023-12-30T15:31:04.058040Z",
     "shell.execute_reply.started": "2023-12-30T15:31:03.276300Z"
    },
    "tags": [],
    "vscode": {
     "languageId": "python"
    }
   },
   "outputs": [
    {
     "data": {
      "application/vnd.jupyter.widget-view+json": {
       "model_id": "3b9e4eebf4c14c70887b5be5e94a1844",
       "version_major": 2,
       "version_minor": 0
      },
      "text/plain": [
       "VBox()"
      ]
     },
     "metadata": {},
     "output_type": "display_data"
    },
    {
     "data": {
      "application/vnd.jupyter.widget-view+json": {
       "model_id": "",
       "version_major": 2,
       "version_minor": 0
      },
      "text/plain": [
       "FloatProgress(value=0.0, bar_style='info', description='Progress:', layout=Layout(height='25px', width='50%'),…"
      ]
     },
     "metadata": {},
     "output_type": "display_data"
    }
   ],
   "source": [
    "schema = StructType([\n",
    "    StructField(\"RateCodeId\", IntegerType(), True),\n",
    "    StructField(\"RateCode\", StringType(), True)\n",
    "])\n",
    "data=([1,'Standard rate'],[2,'JFK'],[3,'Newark'],[4,'Nassau or Westchester'],[5,'Negotiated fare'],[6,'Group ride'])\n",
    "dim_ratecode=spark.createDataFrame(data, schema)\n",
    "file_name='dim_ratecode'\n",
    "dim_ratecode.repartition(1).write.mode(\"overwrite\").parquet(dw_bucket_path+file_name)"
   ]
  },
  {
   "cell_type": "code",
   "execution_count": 11,
   "id": "1eeee900-9e04-4bcc-99ef-4f110064f0d2",
   "metadata": {
    "execution": {
     "iopub.execute_input": "2023-12-30T14:47:31.826199Z",
     "iopub.status.busy": "2023-12-30T14:47:31.825975Z",
     "iopub.status.idle": "2023-12-30T14:47:32.088979Z",
     "shell.execute_reply": "2023-12-30T14:47:32.088166Z",
     "shell.execute_reply.started": "2023-12-30T14:47:31.826175Z"
    },
    "vscode": {
     "languageId": "python"
    }
   },
   "outputs": [
    {
     "data": {
      "application/vnd.jupyter.widget-view+json": {
       "model_id": "9c118d5ee4d042ada67227645170acd8",
       "version_major": 2,
       "version_minor": 0
      },
      "text/plain": [
       "VBox()"
      ]
     },
     "metadata": {},
     "output_type": "display_data"
    },
    {
     "data": {
      "application/vnd.jupyter.widget-view+json": {
       "model_id": "",
       "version_major": 2,
       "version_minor": 0
      },
      "text/plain": [
       "FloatProgress(value=0.0, bar_style='info', description='Progress:', layout=Layout(height='25px', width='50%'),…"
      ]
     },
     "metadata": {},
     "output_type": "display_data"
    }
   ],
   "source": [
    "schema = StructType([\n",
    "    StructField(\"VendorId\", IntegerType(), True),\n",
    "    StructField(\"Vendor\", StringType(), True)\n",
    "])\n",
    "data=([1,'Creative Mobile Technologies'],[2,'VeriFone Inc.'])\n",
    "dim_vendor=spark.createDataFrame(data, schema)\n",
    "file_name='dim_vendor'\n",
    "dim_vendor.repartition(1).write.mode(\"overwrite\").parquet(dw_bucket_path+file_name)"
   ]
  },
  {
   "cell_type": "code",
   "execution_count": 31,
   "id": "8cb54143-ba52-4f02-bdc3-037f1d9382cd",
   "metadata": {
    "execution": {
     "iopub.execute_input": "2023-12-30T15:32:12.406784Z",
     "iopub.status.busy": "2023-12-30T15:32:12.406560Z",
     "iopub.status.idle": "2023-12-30T15:32:23.748210Z",
     "shell.execute_reply": "2023-12-30T15:32:23.747625Z",
     "shell.execute_reply.started": "2023-12-30T15:32:12.406759Z"
    },
    "tags": [],
    "vscode": {
     "languageId": "python"
    }
   },
   "outputs": [
    {
     "data": {
      "application/vnd.jupyter.widget-view+json": {
       "model_id": "6a341e97599d40ccb3c358c049562612",
       "version_major": 2,
       "version_minor": 0
      },
      "text/plain": [
       "VBox()"
      ]
     },
     "metadata": {},
     "output_type": "display_data"
    },
    {
     "data": {
      "application/vnd.jupyter.widget-view+json": {
       "model_id": "",
       "version_major": 2,
       "version_minor": 0
      },
      "text/plain": [
       "FloatProgress(value=0.0, bar_style='info', description='Progress:', layout=Layout(height='25px', width='50%'),…"
      ]
     },
     "metadata": {},
     "output_type": "display_data"
    }
   ],
   "source": [
    "dim_zone_source = \"s3://\"+source_bucket+\"/taxi_zone_lookup.csv\"\n",
    "dim_zone=spark.read.csv(dim_zone_source,header=True)\n",
    "file_name='dim_zone'\n",
    "dim_zone.repartition(1).write.mode(\"overwrite\").parquet(dw_bucket_path+file_name)"
   ]
  },
  {
   "cell_type": "code",
   "execution_count": 32,
   "id": "7ce7d4fc-c07d-4e53-af3a-aa2dac983d01",
   "metadata": {
    "execution": {
     "iopub.execute_input": "2023-12-30T15:32:52.950298Z",
     "iopub.status.busy": "2023-12-30T15:32:52.950073Z",
     "iopub.status.idle": "2023-12-30T15:32:55.225025Z",
     "shell.execute_reply": "2023-12-30T15:32:55.224357Z",
     "shell.execute_reply.started": "2023-12-30T15:32:52.950273Z"
    },
    "tags": [],
    "vscode": {
     "languageId": "python"
    }
   },
   "outputs": [
    {
     "data": {
      "application/vnd.jupyter.widget-view+json": {
       "model_id": "72c919fdd5a642709364fe352ebd545c",
       "version_major": 2,
       "version_minor": 0
      },
      "text/plain": [
       "VBox()"
      ]
     },
     "metadata": {},
     "output_type": "display_data"
    },
    {
     "data": {
      "application/vnd.jupyter.widget-view+json": {
       "model_id": "",
       "version_major": 2,
       "version_minor": 0
      },
      "text/plain": [
       "FloatProgress(value=0.0, bar_style='info', description='Progress:', layout=Layout(height='25px', width='50%'),…"
      ]
     },
     "metadata": {},
     "output_type": "display_data"
    }
   ],
   "source": [
    "start_date = datetime(2009, 1, 1)\n",
    "end_date = datetime(2025, 12, 31)\n",
    "\n",
    "# Calculate the number of days between start and end date\n",
    "num_days = (end_date - start_date).days\n",
    "\n",
    "# Create a DataFrame with a range of dates\n",
    "date_range_df = spark.range(0, num_days + 1).selectExpr(f\"cast(id as int) as id\")\n",
    "\n",
    "date_range_df = date_range_df.withColumn(\n",
    "    \"date\",\n",
    "    (to_date(lit(start_date)) + col(\"id\")).cast(\"date\")\n",
    ")\n",
    "\n",
    "# Extract various date-related columns\n",
    "dim_date = date_range_df.select(\n",
    "    col(\"date\").alias(\"full_date\"),\n",
    "    year(\"date\").alias(\"year\"),\n",
    "    quarter(\"date\").alias(\"quarter\"),\n",
    "    month(\"date\").alias(\"month\"),\n",
    "    dayofmonth(\"date\").alias(\"day\"),\n",
    "    dayofweek(\"date\").alias(\"day_of_week\"),\n",
    "    weekofyear(\"date\").alias(\"week_number\")\n",
    "    # You can add more date-related columns as needed\n",
    ")\n",
    "\n",
    "# Add isweekday and isweekend columns\n",
    "dim_date = dim_date.withColumn(\n",
    "    \"isweekday\",\n",
    "    when((col(\"day_of_week\") >= 2) & (col(\"day_of_week\") <= 6), 1).otherwise(0)\n",
    ")\n",
    "dim_date = dim_date.withColumn(\"isweekend\", when(col(\"isweekday\") == 0, 1).otherwise(0))\n",
    "\n",
    "# dim_date = dim_date.withColumn(\"DateId\", col(\"index\")).drop(\"index\")\n",
    "# # Show the Date Dimension DataFrame\n",
    "\n",
    "dim_date=dim_date.withColumn(\"DateId\",concat(col('year'),col('month'),col('day')))\n",
    "\n",
    "dim_date=dim_date.withColumn(\"DateId\", col(\"DateId\").cast(\"integer\"))\n",
    "\n",
    "file_name='dim_date'\n",
    "dim_date.repartition(1).write.mode(\"overwrite\").parquet(dw_bucket_path+file_name)"
   ]
  },
  {
   "cell_type": "code",
   "execution_count": 33,
   "id": "5ec52067-1f8a-4328-84b7-ecda0ad65d70",
   "metadata": {
    "execution": {
     "iopub.execute_input": "2023-12-30T15:33:48.402028Z",
     "iopub.status.busy": "2023-12-30T15:33:48.401804Z",
     "iopub.status.idle": "2023-12-30T15:33:55.688125Z",
     "shell.execute_reply": "2023-12-30T15:33:55.687507Z",
     "shell.execute_reply.started": "2023-12-30T15:33:48.402005Z"
    },
    "tags": [],
    "vscode": {
     "languageId": "python"
    }
   },
   "outputs": [
    {
     "data": {
      "application/vnd.jupyter.widget-view+json": {
       "model_id": "99442ccf89f44de2a500ab3aa6c73244",
       "version_major": 2,
       "version_minor": 0
      },
      "text/plain": [
       "VBox()"
      ]
     },
     "metadata": {},
     "output_type": "display_data"
    },
    {
     "data": {
      "application/vnd.jupyter.widget-view+json": {
       "model_id": "",
       "version_major": 2,
       "version_minor": 0
      },
      "text/plain": [
       "FloatProgress(value=0.0, bar_style='info', description='Progress:', layout=Layout(height='25px', width='50%'),…"
      ]
     },
     "metadata": {},
     "output_type": "display_data"
    }
   ],
   "source": [
    "hours_range = range(0, 24)\n",
    "minutes_range = range(0, 60)\n",
    "\n",
    "# Create a DataFrame with hours and minutes\n",
    "dim_time = spark.createDataFrame(\n",
    "    [(hour, minute) for hour in hours_range for minute in minutes_range],\n",
    "    [\"hour\", \"minute\"]\n",
    ")\n",
    "\n",
    "dim_time=dim_time.withColumn(\"TimeId\",concat(col(\"hour\"), col(\"minute\")))\n",
    "# Show the Time Dimension DataFrame\n",
    "\n",
    "file_name='dim_time'\n",
    "dim_time.repartition(1).write.mode(\"overwrite\").parquet(dw_bucket_path+file_name)"
   ]
  },
  {
   "cell_type": "code",
   "execution_count": 34,
   "id": "01943c18-072d-470a-bf75-5513e0bae123",
   "metadata": {
    "execution": {
     "iopub.execute_input": "2023-12-30T15:34:21.671415Z",
     "iopub.status.busy": "2023-12-30T15:34:21.671107Z",
     "iopub.status.idle": "2023-12-30T15:34:22.493358Z",
     "shell.execute_reply": "2023-12-30T15:34:22.492435Z",
     "shell.execute_reply.started": "2023-12-30T15:34:21.671379Z"
    },
    "tags": [],
    "vscode": {
     "languageId": "python"
    }
   },
   "outputs": [
    {
     "data": {
      "application/vnd.jupyter.widget-view+json": {
       "model_id": "6af31800a4c745c0afe75b885f868502",
       "version_major": 2,
       "version_minor": 0
      },
      "text/plain": [
       "VBox()"
      ]
     },
     "metadata": {},
     "output_type": "display_data"
    },
    {
     "data": {
      "application/vnd.jupyter.widget-view+json": {
       "model_id": "",
       "version_major": 2,
       "version_minor": 0
      },
      "text/plain": [
       "FloatProgress(value=0.0, bar_style='info', description='Progress:', layout=Layout(height='25px', width='50%'),…"
      ]
     },
     "metadata": {},
     "output_type": "display_data"
    }
   ],
   "source": [
    "schema = StructType([\n",
    "    StructField(\"LicenseNumber\", StringType(), True),\n",
    "    StructField(\"LicenseHolder\", StringType(), True)\n",
    "])\n",
    "data=(['HV0002','Juno'],['HV0003','Uber'],['HV0004','Via'],['HV0005','Lyft'])\n",
    "dim_license=spark.createDataFrame(data, schema)\n",
    "file_name='dim_license'\n",
    "dim_license.repartition(1).write.mode(\"overwrite\").parquet(dw_bucket_path+file_name)"
   ]
  },
  {
   "cell_type": "code",
   "execution_count": null,
   "id": "4e38c9f1-06fd-4ed6-b88f-4649cb00afc9",
   "metadata": {
    "vscode": {
     "languageId": "python"
    }
   },
   "outputs": [],
   "source": [
    "dim_flags.repartition(1).write.mode(\"overwrite\").parquet(dw_bucket_path+file_name)"
   ]
  }
 ],
 "metadata": {
  "kernelspec": {
   "display_name": "PySpark",
   "language": "",
   "name": "pysparkkernel"
  },
  "language_info": {
   "codemirror_mode": {
    "name": "python",
    "version": 3
   },
   "file_extension": ".py",
   "mimetype": "text/x-python",
   "name": "pyspark",
   "pygments_lexer": "python3"
  }
 },
 "nbformat": 4,
 "nbformat_minor": 5
}
